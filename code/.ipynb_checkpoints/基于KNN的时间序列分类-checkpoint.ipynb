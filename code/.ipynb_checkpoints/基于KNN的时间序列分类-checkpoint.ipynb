{
 "cells": [
  {
   "cell_type": "code",
   "execution_count": 165,
   "metadata": {},
   "outputs": [],
   "source": [
    "import dtw\n",
    "import pandas\n",
    "import numpy as np\n",
    "from matplotlib import pyplot as plt"
   ]
  },
  {
   "cell_type": "markdown",
   "metadata": {},
   "source": [
    "### URC数据集\n",
    "Ｍ为训练集条数，Ｋ为测试集条数，Ｎ为序列长度\n",
    "\n",
    "- train_series：训练数据集，每一行一个序列，为Ｍ×Ｎ的矩阵\n",
    "- train_serise_labels：训练数据集标签，为Ｍ×１的列向量\n",
    "- test_series：测试数据集，每一行一个序列，为Ｋ×Ｎ的矩阵\n",
    "- test_series_labels：测试数据集标签，为Ｋ×１的列向量"
   ]
  },
  {
   "cell_type": "code",
   "execution_count": 166,
   "metadata": {},
   "outputs": [],
   "source": [
    "def get_data(data_name):\n",
    "    '''\n",
    "    获取数据\n",
    "    paras：data_name(数据名)\n",
    "    return：train_series（训练数据集），train_series_labels（训练数据集标签），test_series（测试数据集），test_series_labels（测试数据集标签）\n",
    "    '''\n",
    "    train = pandas.read_csv(r'../data/'+ data_name + r'/'+ data_name + r'_TRAIN.tsv', sep='\\t').values[:, :]\n",
    "    train_series = train[:, 1:]\n",
    "    train_series_labels = train[:, 0]\n",
    "\n",
    "    test = pandas.read_csv(r'../data/'+ data_name + r'/'+ data_name + r'_TEST.tsv', sep='\\t').values[:, :]\n",
    "    test_series = test[:, 1:]\n",
    "    test_series_labels = test[:, 0]\n",
    "    \n",
    "    return train_series, train_series_labels, test_series, test_series_labels"
   ]
  },
  {
   "cell_type": "markdown",
   "metadata": {},
   "source": [
    "### K近邻算法"
   ]
  },
  {
   "cell_type": "code",
   "execution_count": 167,
   "metadata": {},
   "outputs": [],
   "source": [
    "class K_nearest_neighor():\n",
    "    \n",
    "    K = 1 # 初始为最近邻\n",
    "    train_series = [] # 训练数据\n",
    "    train_series_labels = [] # 训练数据标签\n",
    "    dist_lambda = lambda x, y: np.abs(x - y) # DTW判据，初始化为欧几里得距离\n",
    "    \n",
    "    def __init__(self, train_series, train_series_labels, K=1,  dist_lambda=lambda x, y: np.abs(x - y)):\n",
    "        \n",
    "        self.K = K\n",
    "        self.train_series = train_series\n",
    "        self.train_series_labels = train_series_labels\n",
    "        self.dist_lambda = dist_lambda\n",
    "    \n",
    "    \n",
    "    def predict(self, test_seris):\n",
    "        \n",
    "        predict_labels = [] #预测标签\n",
    "        \n",
    "        for test_series_signal in test_series:\n",
    "            t_dis = [] # 每一个序列与所有训练样本的相似度\n",
    "            \n",
    "            for train_series_signal in train_series:\n",
    "                # DTW计算序列相似度\n",
    "                dis, _, _, _ = dtw.accelerated_dtw(test_series_signal.reshape(-1,1),\n",
    "                                                   train_series_signal.reshape(-1,1), \n",
    "                                                   dist=self.dist_lambda)\n",
    "                t_dis.append(dis)\n",
    "            \n",
    "            # 与测试样本最相近的Ｋ个训练样本\n",
    "            nearest_series_labels = np.array(train_series_labels[np.argpartition(t_dis, self.K)[:self.K]]).astype(int)\n",
    "            # 分类类别\n",
    "            preditc_labels_signal = np.argmax(np.bincount(nearest_series_labels))\n",
    "            predict_labels.append(preditc_labels_signal)\n",
    "            \n",
    "        return predict_labels"
   ]
  },
  {
   "cell_type": "code",
   "execution_count": 169,
   "metadata": {},
   "outputs": [
    {
     "data": {
      "image/png": "[encoded data removed]",
      "text/plain": [
       "<Figure size 432x288 with 1 Axes>"
      ]
     },
     "metadata": {
      "needs_background": "light"
     },
     "output_type": "display_data"
    }
   ],
   "source": [
    "# 所有数据名\n",
    "data_names = [\"SmoothSubspace\", \"Chinatown\"]\n",
    "# 不同的数据在不同的K值下的精度\n",
    "accuracies = []\n",
    "\n",
    "for d in data_names:\n",
    "    \n",
    "    accuracy = [] # 同种数据在不同的K值下的精度数组\n",
    "   \n",
    "    train_series, train_series_labels, test_series, test_series_labels = get_data(d) # 获取数据\n",
    "    \n",
    "    # 不同的K值预测\n",
    "    for k in range(1, 10):\n",
    "        my_knn = K_nearest_neighor(train_series=train_series, \n",
    "                                   train_series_labels=train_series_labels, \n",
    "                                   K=k)\n",
    "                # 预测标签\n",
    "        predict_labels = my_knn.predict(test_series)\n",
    "        # 精度计算\n",
    "        accuracy.append(np.mean(np.array(predict_labels) == test_series_labels))\n",
    "    # 作图\n",
    "    plt.ylabel(\"the accuracy of prediction\")\n",
    "    plt.xlabel(\"the value of K\")\n",
    "    plt.plot(accuracy, linewidth=3)\n",
    "    \n",
    "    accuracies.append(accuracy)\n",
    "plt.show()"
   ]
  }
 ],
 "metadata": {
  "kernelspec": {
   "display_name": "Python 3",
   "language": "python",
   "name": "python3"
  },
  "language_info": {
   "codemirror_mode": {
    "name": "ipython",
    "version": 3
   },
   "file_extension": ".py",
   "mimetype": "text/x-python",
   "name": "python",
   "nbconvert_exporter": "python",
   "pygments_lexer": "ipython3",
   "version": "3.7.3"
  }
 },
 "nbformat": 4,
 "nbformat_minor": 2
}
